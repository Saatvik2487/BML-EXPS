{
  "nbformat": 4,
  "nbformat_minor": 0,
  "metadata": {
    "colab": {
      "provenance": [],
      "authorship_tag": "ABX9TyNznXcLlnHa3Q6yaqmnQmAh",
      "include_colab_link": true
    },
    "kernelspec": {
      "name": "python3",
      "display_name": "Python 3"
    },
    "language_info": {
      "name": "python"
    }
  },
  "cells": [
    {
      "cell_type": "markdown",
      "metadata": {
        "id": "view-in-github",
        "colab_type": "text"
      },
      "source": [
        "<a href=\"https://colab.research.google.com/github/Saatvik2487/BML-EXPS/blob/main/bml2.ipynb\" target=\"_parent\"><img src=\"https://colab.research.google.com/assets/colab-badge.svg\" alt=\"Open In Colab\"/></a>"
      ]
    },
    {
      "cell_type": "code",
      "execution_count": null,
      "metadata": {
        "id": "lefIg32kt3LG"
      },
      "outputs": [],
      "source": [
        "import pandas as pd\n",
        "df = pd.read_csv(\"/content/heart.csv\")\n",
        "print(df.head())"
      ]
    },
    {
      "cell_type": "code",
      "source": [
        "print(\"Summary: \")\n",
        "print(df.describe())"
      ],
      "metadata": {
        "id": "ZWszzRHSt8ro"
      },
      "execution_count": null,
      "outputs": []
    },
    {
      "cell_type": "code",
      "source": [
        "print(\"Missing Values: \")\n",
        "print(df.isnull().sum())\n",
        "# print(df.null())"
      ],
      "metadata": {
        "id": "qKZwKXkft8oX"
      },
      "execution_count": null,
      "outputs": []
    },
    {
      "cell_type": "code",
      "source": [
        "print(\"Information of heart dataset: \")\n",
        "print(df.info())\n",
        "print(\"Duplicate values: \")\n",
        "print(df.duplicated().sum())"
      ],
      "metadata": {
        "id": "4cRv18uwt8la"
      },
      "execution_count": null,
      "outputs": []
    },
    {
      "cell_type": "code",
      "source": [
        "print(\"Size of the dataset: \")\n",
        "print(df.size)"
      ],
      "metadata": {
        "id": "ydCx0pILt8ix"
      },
      "execution_count": null,
      "outputs": []
    },
    {
      "cell_type": "code",
      "source": [
        "import matplotlib.pyplot as plt\n",
        "import seaborn as sns"
      ],
      "metadata": {
        "id": "ffF5Vw_-t8gB"
      },
      "execution_count": null,
      "outputs": []
    },
    {
      "cell_type": "code",
      "source": [
        "plt.figure(figsize=(5,3))\n",
        "sns.countplot(x=\"target\", data=df)\n",
        "plt.title('Heart Disease Count')\n",
        "plt.xlabel('Target')\n",
        "plt.ylabel('Count')\n",
        "plt.show()"
      ],
      "metadata": {
        "id": "MRlPUz0Ct8dZ"
      },
      "execution_count": null,
      "outputs": []
    },
    {
      "cell_type": "code",
      "source": [
        "col = [\"age\", \"cho1\", \"target\"]\n",
        "sns.pairplot(df[col], hue=\"target\")\n",
        "plt.show()"
      ],
      "metadata": {
        "id": "qxV1gmUouIWy"
      },
      "execution_count": null,
      "outputs": []
    }
  ]
}